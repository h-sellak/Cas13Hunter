{
 "cells": [
  {
   "cell_type": "markdown",
   "id": "7d6ca3b7-71a7-41e5-92ff-55f948fc2e23",
   "metadata": {},
   "source": [
    "# Cas13Hunter: Data Preprocessing"
   ]
  },
  {
   "cell_type": "markdown",
   "id": "e1946caf-e235-4b4e-bddb-06598eb593c6",
   "metadata": {},
   "source": [
    "This notebook performs preprocessing of raw viral genome sequences to ensure data quality and readiness for downstream analysis.\n",
    "\n",
    "__Steps:__\n",
    "1. Load raw viral genome sequences.\n",
    "2. Perform quality control (e.g., remove duplicates, handle ambiguous bases).\n",
    "3. Save cleaned and processed sequences."
   ]
  },
  {
   "cell_type": "markdown",
   "id": "ee34d1fd-4374-4e0a-8c23-a6409ff96083",
   "metadata": {},
   "source": [
    "## 1. Setup"
   ]
  },
  {
   "cell_type": "markdown",
   "id": "66a1763b-1250-494b-9461-bdd499c903cd",
   "metadata": {},
   "source": [
    "### Import Libraries"
   ]
  },
  {
   "cell_type": "code",
   "execution_count": null,
   "id": "c3eedcee-8cb3-407c-8f87-7488cd09f721",
   "metadata": {},
   "outputs": [],
   "source": [
    "import os\n",
    "from Bio import SeqIO\n",
    "import pandas as pd\n",
    "import matplotlib.pyplot as plt"
   ]
  },
  {
   "cell_type": "code",
   "execution_count": null,
   "id": "30d8f544-f1a1-4ac6-bf10-c5f67006ac22",
   "metadata": {},
   "outputs": [],
   "source": [
    "### Define Input and Output Paths\n",
    "RAW_DATA_DIR = \"../data/raw/\"\n",
    "PROCESSED_DATA_DIR = \"../data/processed/\"\n",
    "os.makedirs(PROCESSED_DATA_DIR, exist_ok=True)"
   ]
  },
  {
   "cell_type": "markdown",
   "id": "39486460-9381-4e5d-8ab4-f5067f2a7f6d",
   "metadata": {},
   "source": [
    "## 2. Load Raw Viral Genome Sequences"
   ]
  },
  {
   "cell_type": "markdown",
   "id": "0764be6a-4fe5-40da-ba5d-6f9a9a93ff88",
   "metadata": {},
   "source": [
    "### Load FASTA Files"
   ]
  },
  {
   "cell_type": "code",
   "execution_count": null,
   "id": "95ef3a86-3bfa-4842-a8a0-84b5f92c6b6f",
   "metadata": {},
   "outputs": [],
   "source": [
    "fasta_file = os.path.join(RAW_DATA_DIR, \"viral_sequences.fasta\")\n",
    "sequences = list(SeqIO.parse(fasta_file, \"fasta\"))"
   ]
  },
  {
   "cell_type": "code",
   "execution_count": null,
   "id": "eabc769f-bc4a-42da-b27d-6d8aeb3f8757",
   "metadata": {},
   "outputs": [],
   "source": [
    "# Display the total number of sequences\n",
    "print(f\"Total sequences loaded: {len(sequences)}\")"
   ]
  },
  {
   "cell_type": "markdown",
   "id": "787a079a-8b38-4f0c-a402-1e115169bb44",
   "metadata": {},
   "source": [
    "## 3. Visualize Sequence Statistics"
   ]
  },
  {
   "cell_type": "markdown",
   "id": "dc7c43fa-f30c-4dbf-b4db-4113c392675d",
   "metadata": {},
   "source": [
    "### Sequence Length Distribution"
   ]
  },
  {
   "cell_type": "code",
   "execution_count": null,
   "id": "2ca8ddc7-d502-4e0c-ba49-ec8944b3a3c3",
   "metadata": {},
   "outputs": [],
   "source": [
    "seq_lengths = [len(record.seq) for record in sequences]\n",
    "plt.hist(seq_lengths, bins=20, edgecolor=\"black\")\n",
    "plt.title(\"Sequence Length Distribution\")\n",
    "plt.xlabel(\"Length\")\n",
    "plt.ylabel(\"Count\")\n",
    "plt.show()"
   ]
  },
  {
   "cell_type": "markdown",
   "id": "5c187c4a-3f49-4f78-8b9e-c196f75350b1",
   "metadata": {},
   "source": [
    "## 4. Clean and Filter Sequences"
   ]
  },
  {
   "cell_type": "markdown",
   "id": "bfe987ef-b85b-47e9-9357-f17d11b6308f",
   "metadata": {},
   "source": [
    "### Remove Duplicates"
   ]
  },
  {
   "cell_type": "code",
   "execution_count": null,
   "id": "8b41ee19-14ba-48a8-8a42-aee728924376",
   "metadata": {},
   "outputs": [],
   "source": [
    "unique_sequences = {str(record.seq): record for record in sequences}\n",
    "sequences = list(unique_sequences.values())\n",
    "print(f\"Sequences after removing duplicates: {len(sequences)}\")"
   ]
  },
  {
   "cell_type": "markdown",
   "id": "8b803046-716a-41ae-bff5-b20b5a3fdd10",
   "metadata": {},
   "source": [
    "### Filter Sequences by Length"
   ]
  },
  {
   "cell_type": "markdown",
   "id": "51db0ead-114c-40f2-9089-59e2a2e44c6e",
   "metadata": {},
   "source": [
    "> __Note__: Viral genomes like SARS-CoV-2 may vary slightly in length due to insertions, deletions, or sequencing errors. Tools for conserved region analysis (e.g., MSA) can handle minor length differences. However, sequences with vastly different lengths may indicate incomplete or erroneous data and should be filtered."
   ]
  },
  {
   "cell_type": "code",
   "execution_count": null,
   "id": "6997107d-f34e-4c05-a083-d04f44dc6a45",
   "metadata": {},
   "outputs": [],
   "source": [
    "# Define minimum and maximum length\n",
    "MIN_LENGTH = 29000\n",
    "MAX_LENGTH = 30000\n",
    "\n",
    "# Filter sequences within the specified range\n",
    "filtered_sequences = [record for record in sequences if MIN_LENGTH <= len(record.seq) <= MAX_LENGTH]\n",
    "print(f\"Sequences after length filtering: {len(filtered_sequences)}\")"
   ]
  },
  {
   "cell_type": "markdown",
   "id": "3fa1530c-403d-4e89-997d-a04f862e6dec",
   "metadata": {},
   "source": [
    "### Remove Sequences with High Ambiguity"
   ]
  },
  {
   "cell_type": "code",
   "execution_count": null,
   "id": "c9539351-2d39-4b11-a948-b51e5dd4d100",
   "metadata": {},
   "outputs": [],
   "source": [
    "# Define maximum ambiguity threshold (e.g., 5%)\n",
    "MAX_AMBIGUITY = 0.05\n",
    "\n",
    "# Remove sequences with more than the threshold percentage of ambiguous bases\n",
    "filtered_ambiguous = [\n",
    "    record for record in filtered_sequences\n",
    "    if str(record.seq).count(\"N\") / len(record.seq) <= MAX_AMBIGUITY\n",
    "]\n",
    "print(f\"Sequences after removing high-ambiguity sequences: {len(filtered_ambiguous)}\")"
   ]
  },
  {
   "cell_type": "code",
   "execution_count": null,
   "id": "8d99dfe9-5bd2-401d-a13c-85f7976f6e85",
   "metadata": {},
   "outputs": [],
   "source": [
    "# valid_sequences = [record for record in sequences if \"N\" not in str(record.seq)]\n",
    "# print(f\"Sequences after removing ambiguous bases: {len(valid_sequences)}\")"
   ]
  },
  {
   "cell_type": "markdown",
   "id": "b48a8a7b-d637-4bc5-901c-8251376c4bfe",
   "metadata": {},
   "source": [
    "### Replace Ambiguous Bases"
   ]
  },
  {
   "cell_type": "code",
   "execution_count": null,
   "id": "51fc69d7-1ee0-4c45-b4f5-6b40525ab710",
   "metadata": {},
   "outputs": [],
   "source": [
    "# Replace ambiguous bases ('N') with the most common base at each position\n",
    "def replace_ambiguous(seq, reference):\n",
    "    # Convert sequence to a mutable list\n",
    "    seq = list(seq)\n",
    "    \n",
    "    # Iterate over the sequence within the bounds of the consensus sequence\n",
    "    for i, base in enumerate(seq):\n",
    "        if i < len(reference) and base == \"N\":  # Ensure we're within the index of the reference\n",
    "            seq[i] = reference[i]  # Replace 'N' with the most common base\n",
    "    \n",
    "    # Convert back to a string and return\n",
    "    return \"\".join(seq)"
   ]
  },
  {
   "cell_type": "code",
   "execution_count": null,
   "id": "40a1c9be-4d89-4888-a4c2-7341748114dc",
   "metadata": {},
   "outputs": [],
   "source": [
    "# Example sequences\n",
    "sequence = \"AUGNNNUGGUCU\"\n",
    "consensus_sequence = \"AUGUCCUGGUCU\"\n",
    "\n",
    "# Replace ambiguous bases\n",
    "cleaned_sequence = replace_ambiguous(sequence, consensus_sequence)\n",
    "\n",
    "print(f\"Original sequence:   {sequence}\")\n",
    "print(f\"Consensus sequence: {consensus_sequence}\")\n",
    "print(f\"Cleaned sequence:    {cleaned_sequence}\")"
   ]
  },
  {
   "cell_type": "markdown",
   "id": "3861cb6d-e0e1-454c-9f1b-f58db449b3d9",
   "metadata": {},
   "source": [
    "> __Note:__ The length of the sequences in `filtered_ambiguous` may vary, and attempting to iterate over the length of the first sequence (`filtered_ambiguous[0].seq`) could lead to an index out of range error. To fix this, we should use the length of the shortest sequence."
   ]
  },
  {
   "cell_type": "code",
   "execution_count": null,
   "id": "2b923980-6843-419e-94af-3ab988146877",
   "metadata": {
    "scrolled": true
   },
   "outputs": [],
   "source": [
    "from collections import Counter\n",
    "\n",
    "# Find the length of the smallest sequence\n",
    "min_length = min(len(record.seq) for record in filtered_ambiguous)\n",
    "\n",
    "# Generate a consensus sequence up to the length of the smallest sequence\n",
    "consensus_seq = \"\".join(\n",
    "    Counter([str(record.seq)[i] for record in filtered_ambiguous]).most_common(1)[0][0]\n",
    "    for i in range(min_length)\n",
    ")\n",
    "\n",
    "print(f\"Consensus sequence (length {len(consensus_seq)}):\")\n",
    "print(consensus_seq)"
   ]
  },
  {
   "cell_type": "code",
   "execution_count": null,
   "id": "a42ce410-e98e-475c-b2c1-e3d6c3d26600",
   "metadata": {},
   "outputs": [],
   "source": [
    "filtered_ambiguous[50]"
   ]
  },
  {
   "cell_type": "code",
   "execution_count": null,
   "id": "b8e4e4e2-6648-4b10-b6e9-2be06736b4dd",
   "metadata": {},
   "outputs": [],
   "source": [
    "from Bio.Seq import Seq\n",
    "from Bio.SeqRecord import SeqRecord\n",
    "\n",
    "# Replace 'N' in each sequence\n",
    "cleaned_sequences = [\n",
    "    SeqRecord(Seq(replace_ambiguous(str(record.seq), consensus_seq)),\n",
    "              id=record.id,\n",
    "              name=record.name,\n",
    "              description=record.description, \n",
    "              dbxrefs=record.dbxrefs)\n",
    "    #record._replace(seq=replace_ambiguous(str(record.seq), consensus_seq))\n",
    "    #record.seq.replace(old=record.seq, new=replace_ambiguous(str(record.seq), consensus_seq))\n",
    "    for record in filtered_ambiguous\n",
    "]\n",
    "print(f\"Sequences after replacing ambiguous bases: {len(cleaned_sequences)}\")"
   ]
  },
  {
   "cell_type": "markdown",
   "id": "9f32a8f6-f3ad-4829-a9a6-6810f455e609",
   "metadata": {},
   "source": [
    "### Filter Sequences by Expected GC range"
   ]
  },
  {
   "cell_type": "code",
   "execution_count": null,
   "id": "2b14355f-e9df-4e27-ba47-cb024ac404e8",
   "metadata": {},
   "outputs": [],
   "source": [
    "# Calculate GC content for each sequence\n",
    "def gc_content(seq):\n",
    "    return (seq.count(\"G\") + seq.count(\"C\")) / len(seq) * 100\n",
    "\n",
    "gc_values = [gc_content(str(record.seq)) for record in cleaned_sequences]"
   ]
  },
  {
   "cell_type": "code",
   "execution_count": null,
   "id": "da8f3e04-d906-40d1-b32c-5796652d1dc7",
   "metadata": {
    "scrolled": true
   },
   "outputs": [],
   "source": [
    "# Plot GC content distribution\n",
    "plt.hist(gc_values, bins=20, edgecolor=\"black\")\n",
    "plt.title(\"GC Content Distribution\")\n",
    "plt.xlabel(\"GC Content (%)\")\n",
    "plt.ylabel(\"Count\")\n",
    "plt.show()"
   ]
  },
  {
   "cell_type": "code",
   "execution_count": null,
   "id": "00b2be18-6661-4ce1-bdfd-16ac71825cc0",
   "metadata": {},
   "outputs": [],
   "source": [
    "# Filter sequences within the expected GC range (e.g., 37% - 39%)\n",
    "MIN_GC = 37\n",
    "MAX_GC = 39\n",
    " \n",
    "filtered_gc = [\n",
    "    record for record, gc in zip(cleaned_sequences, gc_values) if MIN_GC <= gc <= MAX_GC\n",
    "]\n",
    "print(f\"Sequences after GC content filtering: {len(filtered_gc)}\")"
   ]
  },
  {
   "cell_type": "markdown",
   "id": "2ae69945-42dd-4d96-9f31-0005d9d72ec1",
   "metadata": {},
   "source": [
    "## 5. Save Processed Data"
   ]
  },
  {
   "cell_type": "markdown",
   "id": "f6f63013-dc71-45fc-b700-2637dc80c663",
   "metadata": {},
   "source": [
    "### Save to FASTA File"
   ]
  },
  {
   "cell_type": "code",
   "execution_count": null,
   "id": "2f8278c6-88a6-4822-bc5e-64adbf8eb532",
   "metadata": {},
   "outputs": [],
   "source": [
    "processed_file = os.path.join(PROCESSED_DATA_DIR, \"cleaned_sequences.fasta\")\n",
    "SeqIO.write(valid_sequences, processed_file, \"fasta\")\n",
    "print(f\"Processed sequences saved to: {processed_file}\")"
   ]
  },
  {
   "cell_type": "markdown",
   "id": "f557a9dd-8a3e-414b-a469-2255a245d5e7",
   "metadata": {},
   "source": [
    "### Test"
   ]
  },
  {
   "cell_type": "code",
   "execution_count": null,
   "id": "2035eed6-5026-41c0-8161-a7eca61d3d0d",
   "metadata": {},
   "outputs": [],
   "source": []
  }
 ],
 "metadata": {
  "kernelspec": {
   "display_name": "Python 3 (ipykernel)",
   "language": "python",
   "name": "python3"
  },
  "language_info": {
   "codemirror_mode": {
    "name": "ipython",
    "version": 3
   },
   "file_extension": ".py",
   "mimetype": "text/x-python",
   "name": "python",
   "nbconvert_exporter": "python",
   "pygments_lexer": "ipython3",
   "version": "3.11.8"
  }
 },
 "nbformat": 4,
 "nbformat_minor": 5
}
