{
 "cells": [
  {
   "cell_type": "markdown",
   "id": "cdae469c-7352-459a-8365-18b6d937a948",
   "metadata": {},
   "source": [
    "# Cas13Hunter: CRISPR-Cas13 Guide RNA Design"
   ]
  },
  {
   "cell_type": "markdown",
   "id": "a6780b7b-c344-4ebb-a0f7-8baeb2ddfd3b",
   "metadata": {},
   "source": [
    "## 0. Overview"
   ]
  },
  {
   "cell_type": "markdown",
   "id": "3af82a72-6fdc-45c7-9a71-ca4270481f4f",
   "metadata": {},
   "source": [
    "This notebook designs CRISPR-Cas13 guide RNAs targeting conserved regions of the viral genome. Guide RNAs are short RNA sequences that direct the Cas13 protein to specific RNA regions for cleavage. Conserved regions, identified in `02_alignment_analysis.ipynb`, are used as the basis for guide RNA design. The guide RNAs design step include:\n",
    "\n",
    "1. __Load conserved positions and aligned sequences.__\n",
    "2. __Extract sequences around conserved positions.__\n",
    "3. __Design and evaluate guide RNAs.__\n",
    "4. __Check for off-target effects.__\n",
    "5. __Save designed guides for downstream evaluation.__\n",
    "6. __Visualise guide RNA characteristics.__\n"
   ]
  },
  {
   "cell_type": "markdown",
   "id": "0ca4e139-7077-4699-9ec2-4fe302c2e485",
   "metadata": {},
   "source": [
    "## 1. Import Libraries"
   ]
  },
  {
   "cell_type": "markdown",
   "id": "0fcb0393-5dd5-4850-9482-c9e279d48b44",
   "metadata": {},
   "source": [
    "In this step, we import the required Python libraries for designing CRISPR-Cas13 guide RNAs:\n",
    "\n",
    "- **`os`**: For file path management and ensuring the existence of required files.\n",
    "- **`numpy`**: To load and process the conserved positions stored in `.npy` format.\n",
    "- **`Bio` (from Biopython)**: For handling biological sequence data, such as aligned sequences in FASTA format.\n",
    "- **`matplotlib.pyplot`**: For creating visualisations, such as GC content distribution of guide RNAs.\n",
    "- **`pandas`**: For managing and analyzing guide RNA data in a structured tabular format.\n",
    "\n",
    "These libraries are essential for working with conserved regions, processing sequence data, evaluating guide RNAs, and visualszing results.\n"
   ]
  },
  {
   "cell_type": "code",
   "execution_count": 3,
   "id": "36ba68cb-b957-4f23-aa55-36fcbced9d3f",
   "metadata": {},
   "outputs": [],
   "source": [
    "import os\n",
    "import numpy as np\n",
    "from Bio import SeqIO\n",
    "import matplotlib.pyplot as plt\n",
    "import pandas as pd\n"
   ]
  },
  {
   "cell_type": "markdown",
   "id": "9d1ecf66-080a-43fc-82f2-a7a21b516a46",
   "metadata": {},
   "source": [
    "## 2. Load Conserved Positions and Aligned Sequences"
   ]
  },
  {
   "cell_type": "markdown",
   "id": "876c4b55-7e35-4985-9c9d-6dd38edfb10b",
   "metadata": {},
   "source": [
    "In this step, we load the conserved positions and aligned sequences from the previous steps of the pipeline.\n",
    "\n",
    "__Steps:__\n",
    "1. **Load Conserved Positions**:\n",
    "   - Conserved positions were identified in the `02_alignment_analysis.ipynb` notebook and saved as a `.npy` file.\n",
    "   - These positions represent genome locations with high conservation across all aligned sequences.\n",
    "\n",
    "2. **Load Aligned Sequences**:\n",
    "   - The aligned sequences, generated using MAFFT in `02_alignment_analysis.ipynb`, are loaded from the saved FASTA file.\n",
    "   - Each sequence in the alignment corresponds to a viral genome, with gaps (`-`) introduced to optimize alignment.\n",
    "\n",
    "__Importance:__\n",
    "- Conserved positions serve as the basis for guide RNA design, ensuring the guides target critical and consistent regions of the genome.\n",
    "- The aligned sequences allow us to extract sequences surrounding the conserved positions for further evaluation.\n",
    "\n",
    "__Output:__\n",
    "- A list of conserved positions (`conserved_positions`).\n",
    "- A collection of aligned sequences (`alignment`).\n"
   ]
  },
  {
   "cell_type": "code",
   "execution_count": 5,
   "id": "f968d556-fd6e-4017-aadf-8f292a731b77",
   "metadata": {},
   "outputs": [
    {
     "name": "stdout",
     "output_type": "stream",
     "text": [
      "Loaded 35119 conserved positions.\n",
      "Loaded 453 aligned sequences.\n"
     ]
    }
   ],
   "source": [
    "# Define file paths\n",
    "PROCESSED_DATA_DIR = \"../data/processed/\"\n",
    "aligned_file = os.path.join(PROCESSED_DATA_DIR, \"aligned_sequences.fasta\")\n",
    "conserved_file = os.path.join(PROCESSED_DATA_DIR, \"conserved_regions.npy\")\n",
    "\n",
    "# Load conserved positions\n",
    "if not os.path.exists(conserved_file):\n",
    "    raise FileNotFoundError(f\"Conserved regions file not found: {conserved_file}\")\n",
    "conserved_positions = np.load(conserved_file)\n",
    "print(f\"Loaded {len(conserved_positions)} conserved positions.\")\n",
    "\n",
    "# Load aligned sequences\n",
    "if not os.path.exists(aligned_file):\n",
    "    raise FileNotFoundError(f\"Aligned file not found: {aligned_file}\")\n",
    "alignment = list(SeqIO.parse(aligned_file, \"fasta\"))\n",
    "print(f\"Loaded {len(alignment)} aligned sequences.\")\n"
   ]
  },
  {
   "cell_type": "markdown",
   "id": "0a5930c9-db66-4f2c-b7ef-d00f47e6e34c",
   "metadata": {},
   "source": [
    "## 3. Extract Conserved Sequences"
   ]
  },
  {
   "cell_type": "markdown",
   "id": "d470b773-e814-49a9-ac35-6fbf0cbf9826",
   "metadata": {},
   "source": [
    "In this step, we extract sequences surrounding the conserved positions identified earlier. These extracted sequences are candidates for CRISPR-Cas13 guide RNA design.\n",
    "\n",
    "__Steps:__\n",
    "1. **Define a Window**:\n",
    "   - A fixed window size (e.g., 30 bases) is defined around each conserved position to extract a small region of the genome.\n",
    "   - This ensures the guide RNAs target not just the conserved position but its surrounding context.\n",
    "\n",
    "2. **Handle Gaps**:\n",
    "   - Gaps (`-`) introduced during the alignment are removed from the extracted sequences to ensure accurate guide design.\n",
    "\n",
    "3. **Store Guide Candidates**:\n",
    "   - Each extracted sequence is stored as a potential guide candidate, along with metadata such as:\n",
    "     - Conserved position.\n",
    "     - Sequence ID (to trace it back to the original genome).\n",
    "     - Extracted guide sequence.\n",
    "\n",
    "__Importance:__\n",
    "- **Guide RNA Targeting**: Extracted sequences around conserved positions are ideal candidates for CRISPR-Cas13 targeting.\n",
    "- **Context Preservation**: Including bases around conserved positions ensures guides are specific and robust.\n",
    "\n",
    "__Output:__\n",
    "- A list of guide candidates, each containing:\n",
    "  - The conserved position.\n",
    "  - The sequence ID.\n",
    "  - The extracted guide sequence.\n"
   ]
  },
  {
   "cell_type": "code",
   "execution_count": 6,
   "id": "36f665d4-91ee-4f05-bc3c-ea4905eb5250",
   "metadata": {},
   "outputs": [
    {
     "name": "stdout",
     "output_type": "stream",
     "text": [
      "Extracted 10760671 guide candidates.\n"
     ]
    }
   ],
   "source": [
    "# Extract sequences surrounding conserved positions\n",
    "WINDOW_SIZE = 30  # Number of bases around conserved positions\n",
    "guide_candidates = []\n",
    "\n",
    "for pos in conserved_positions:\n",
    "    for record in alignment:\n",
    "        start = max(0, pos - WINDOW_SIZE // 2)\n",
    "        end = min(len(record.seq), pos + WINDOW_SIZE // 2)\n",
    "        guide_seq = str(record.seq[start:end]).replace(\"-\", \"\")  # Remove gaps\n",
    "        if len(guide_seq) == WINDOW_SIZE:\n",
    "            guide_candidates.append({\n",
    "                \"conserved_pos\": pos,\n",
    "                \"sequence_id\": record.id,\n",
    "                \"guide_sequence\": guide_seq\n",
    "            })\n",
    "\n",
    "print(f\"Extracted {len(guide_candidates)} guide candidates.\")\n",
    "if guide_candidates:\n",
    "    print(\"Example guide candidate:\", guide_candidates[0])\n"
   ]
  },
  {
   "cell_type": "markdown",
   "id": "737ab764-ef21-42a8-ac96-628cacf23f42",
   "metadata": {},
   "source": [
    "## 4. Evaluate Guide RNA Candidates"
   ]
  },
  {
   "cell_type": "markdown",
   "id": "c1373fec-1f7c-42c1-8853-10fd9b96b709",
   "metadata": {},
   "source": [
    "In this step, we evaluate the extracted guide RNA candidates to ensure they meet criteria for effective and specific targeting.\n",
    "\n",
    "__Steps:__\n",
    "1. **Guide Length**:\n",
    "   - Only sequences of a specific length (e.g., 22 bases) are considered valid guide RNAs.\n",
    "   - This length is typically chosen based on Cas13's functional requirements.\n",
    "\n",
    "2. **GC Content**:\n",
    "   - The GC content of each guide sequence is calculated as:\n",
    "     $\\text{GC Content (\\%)} = \\frac{\\text{Count of G + Count of C}}{\\text{Total Bases}} \\times 100$\n",
    "   - Guides with GC content within an acceptable range (e.g., 30–70%) are retained to ensure proper hybridisation and stability.\n",
    "\n",
    "3. **Filter Invalid Guides**:\n",
    "   - Sequences that are too short, too long, or have GC content outside the acceptable range are discarded.\n",
    "\n",
    "4. **Store Metadata**:\n",
    "   - Valid guides are stored with additional metadata:\n",
    "     - Conserved position.\n",
    "     - Sequence ID.\n",
    "     - Guide sequence.\n",
    "     - GC content.\n",
    "\n",
    "__Importance:__\n",
    "- **Targeting Efficiency**: Proper length and GC content ensure the guide RNA binds effectively to the target RNA.\n",
    "- **Specificity**: Filtering guides based on these criteria minimises the chances of off-target effects.\n",
    "\n",
    "__Output:__\n",
    "- A structured dataset (e.g., a Pandas `DataFrame`) of valid guide RNAs, ready for visualisation and downstream analysis.\n"
   ]
  },
  {
   "cell_type": "code",
   "execution_count": 13,
   "id": "3c8764e5-8f18-4c2e-9e43-f962c2088a5a",
   "metadata": {},
   "outputs": [
    {
     "name": "stdout",
     "output_type": "stream",
     "text": [
      "Total guide candidates: 10760671\n",
      "Example guide candidate: {'conserved_pos': 54, 'sequence_id': 'OY087957.1', 'guide_sequence': 'ctttygatctcttgtagatctgttctctaa'}\n",
      "Generated 5047947 valid guide RNAs.\n",
      "   conserved_pos sequence_id          guide_sequence  gc_content\n",
      "0            120  OR903717.1  TGTTCTCTAAACGAACCTGTTC   40.909091\n",
      "1            121  OR903717.1  GTTCTCTAAACGAACCTGTTCT   40.909091\n",
      "2            122  OR903717.1  TTCTCTAAACGAACCTGTTCTC   40.909091\n",
      "3            123  OR903717.1  TCTCTAAACGAACCTGTTCTCT   40.909091\n",
      "4            124  OR903717.1  CTCTAAACGAACCTGTTCTCTA   40.909091\n"
     ]
    }
   ],
   "source": [
    "# Evaluate GC content and length for each guide\n",
    "def calculate_gc_content(seq):\n",
    "    \"\"\"\n",
    "    Calculate the GC content of a nucleotide sequence.\n",
    "    Args:\n",
    "        seq (str): Nucleotide sequence.\n",
    "    Returns:\n",
    "        float: GC content as a percentage.\n",
    "    \"\"\"\n",
    "    seq = seq.upper()  # Convert to uppercase to handle lowercase bases\n",
    "    return (seq.count(\"G\") + seq.count(\"C\")) / len(seq) * 100 if seq else 0\n",
    "\n",
    "# Filter and evaluate guides\n",
    "GUIDE_LENGTH = 22  # Typical guide RNA length for Cas13\n",
    "valid_guides = []\n",
    "\n",
    "# Debugging info: Check guide candidate lengths and case\n",
    "print(f\"Total guide candidates: {len(guide_candidates)}\")\n",
    "if guide_candidates:\n",
    "    print(f\"Example guide candidate: {guide_candidates[0]}\")\n",
    "\n",
    "for guide in guide_candidates:\n",
    "    guide_seq = guide[\"guide_sequence\"][:GUIDE_LENGTH].upper()  # Convert to uppercase and slice\n",
    "    if len(guide_seq) == GUIDE_LENGTH:  # Ensure guide is of sufficient length\n",
    "        gc_content = calculate_gc_content(guide_seq)\n",
    "        if 40 <= gc_content <= 70:  # Adjust GC content range\n",
    "            valid_guides.append({\n",
    "                \"conserved_pos\": guide[\"conserved_pos\"],\n",
    "                \"sequence_id\": guide[\"sequence_id\"],\n",
    "                \"guide_sequence\": guide_seq,\n",
    "                \"gc_content\": gc_content\n",
    "            })\n",
    "\n",
    "# Convert to a DataFrame for easier analysis\n",
    "valid_guides_df = pd.DataFrame(valid_guides)\n",
    "print(f\"Generated {len(valid_guides)} valid guide RNAs.\")\n",
    "\n",
    "# Debugging info: Check GC content distribution\n",
    "if not valid_guides_df.empty:\n",
    "    print(valid_guides_df.head())\n",
    "else:\n",
    "    print(\"No valid guide RNAs found. Check candidate extraction and GC content thresholds.\")\n"
   ]
  },
  {
   "cell_type": "code",
   "execution_count": 17,
   "id": "5d630d6a-0d15-4131-87af-5b5e7598c73f",
   "metadata": {},
   "outputs": [
    {
     "data": {
      "text/html": [
       "<div>\n",
       "<style scoped>\n",
       "    .dataframe tbody tr th:only-of-type {\n",
       "        vertical-align: middle;\n",
       "    }\n",
       "\n",
       "    .dataframe tbody tr th {\n",
       "        vertical-align: top;\n",
       "    }\n",
       "\n",
       "    .dataframe thead th {\n",
       "        text-align: right;\n",
       "    }\n",
       "</style>\n",
       "<table border=\"1\" class=\"dataframe\">\n",
       "  <thead>\n",
       "    <tr style=\"text-align: right;\">\n",
       "      <th></th>\n",
       "      <th>conserved_pos</th>\n",
       "      <th>sequence_id</th>\n",
       "      <th>guide_sequence</th>\n",
       "      <th>gc_content</th>\n",
       "    </tr>\n",
       "  </thead>\n",
       "  <tbody>\n",
       "    <tr>\n",
       "      <th>0</th>\n",
       "      <td>120</td>\n",
       "      <td>OR903717.1</td>\n",
       "      <td>TGTTCTCTAAACGAACCTGTTC</td>\n",
       "      <td>40.909091</td>\n",
       "    </tr>\n",
       "    <tr>\n",
       "      <th>1</th>\n",
       "      <td>121</td>\n",
       "      <td>OR903717.1</td>\n",
       "      <td>GTTCTCTAAACGAACCTGTTCT</td>\n",
       "      <td>40.909091</td>\n",
       "    </tr>\n",
       "    <tr>\n",
       "      <th>2</th>\n",
       "      <td>122</td>\n",
       "      <td>OR903717.1</td>\n",
       "      <td>TTCTCTAAACGAACCTGTTCTC</td>\n",
       "      <td>40.909091</td>\n",
       "    </tr>\n",
       "    <tr>\n",
       "      <th>3</th>\n",
       "      <td>123</td>\n",
       "      <td>OR903717.1</td>\n",
       "      <td>TCTCTAAACGAACCTGTTCTCT</td>\n",
       "      <td>40.909091</td>\n",
       "    </tr>\n",
       "    <tr>\n",
       "      <th>4</th>\n",
       "      <td>124</td>\n",
       "      <td>OR903717.1</td>\n",
       "      <td>CTCTAAACGAACCTGTTCTCTA</td>\n",
       "      <td>40.909091</td>\n",
       "    </tr>\n",
       "    <tr>\n",
       "      <th>...</th>\n",
       "      <td>...</td>\n",
       "      <td>...</td>\n",
       "      <td>...</td>\n",
       "      <td>...</td>\n",
       "    </tr>\n",
       "    <tr>\n",
       "      <th>5047942</th>\n",
       "      <td>35343</td>\n",
       "      <td>PP219430.1</td>\n",
       "      <td>ATGCTAGGGAGAGCTGCCTATA</td>\n",
       "      <td>50.000000</td>\n",
       "    </tr>\n",
       "    <tr>\n",
       "      <th>5047943</th>\n",
       "      <td>35343</td>\n",
       "      <td>OV096826.1</td>\n",
       "      <td>ATGCTAGGGATAGCTGCCTATA</td>\n",
       "      <td>45.454545</td>\n",
       "    </tr>\n",
       "    <tr>\n",
       "      <th>5047944</th>\n",
       "      <td>35343</td>\n",
       "      <td>OL834639.1</td>\n",
       "      <td>ATGCTAGGGAGAGCTGCCTATA</td>\n",
       "      <td>50.000000</td>\n",
       "    </tr>\n",
       "    <tr>\n",
       "      <th>5047945</th>\n",
       "      <td>35343</td>\n",
       "      <td>OL393566.1</td>\n",
       "      <td>ATGCTAGGGAGAGCTGCCTATA</td>\n",
       "      <td>50.000000</td>\n",
       "    </tr>\n",
       "    <tr>\n",
       "      <th>5047946</th>\n",
       "      <td>35343</td>\n",
       "      <td>OX810537.1</td>\n",
       "      <td>ATGCTAGGGAGAGCTGCCTATA</td>\n",
       "      <td>50.000000</td>\n",
       "    </tr>\n",
       "  </tbody>\n",
       "</table>\n",
       "<p>5047947 rows × 4 columns</p>\n",
       "</div>"
      ],
      "text/plain": [
       "         conserved_pos sequence_id          guide_sequence  gc_content\n",
       "0                  120  OR903717.1  TGTTCTCTAAACGAACCTGTTC   40.909091\n",
       "1                  121  OR903717.1  GTTCTCTAAACGAACCTGTTCT   40.909091\n",
       "2                  122  OR903717.1  TTCTCTAAACGAACCTGTTCTC   40.909091\n",
       "3                  123  OR903717.1  TCTCTAAACGAACCTGTTCTCT   40.909091\n",
       "4                  124  OR903717.1  CTCTAAACGAACCTGTTCTCTA   40.909091\n",
       "...                ...         ...                     ...         ...\n",
       "5047942          35343  PP219430.1  ATGCTAGGGAGAGCTGCCTATA   50.000000\n",
       "5047943          35343  OV096826.1  ATGCTAGGGATAGCTGCCTATA   45.454545\n",
       "5047944          35343  OL834639.1  ATGCTAGGGAGAGCTGCCTATA   50.000000\n",
       "5047945          35343  OL393566.1  ATGCTAGGGAGAGCTGCCTATA   50.000000\n",
       "5047946          35343  OX810537.1  ATGCTAGGGAGAGCTGCCTATA   50.000000\n",
       "\n",
       "[5047947 rows x 4 columns]"
      ]
     },
     "execution_count": 17,
     "metadata": {},
     "output_type": "execute_result"
    }
   ],
   "source": [
    "valid_guides_df"
   ]
  },
  {
   "cell_type": "markdown",
   "id": "9a397561-dcde-49a3-b435-78f1bdfc82fb",
   "metadata": {},
   "source": [
    "## 5. Visualise Guide Characteristics"
   ]
  },
  {
   "cell_type": "markdown",
   "id": "b13c034a-ca45-4832-acef-48b5985dd6ee",
   "metadata": {},
   "source": [
    "In this step, we create visualisations to analyse the characteristics of the designed CRISPR-Cas13 guide RNAs. This helps us understand the distribution of important properties, such as GC content.\n",
    "\n",
    "__Steps:__\n",
    "1. **Plot GC Content Distribution**:\n",
    "   - A histogram is created to show the distribution of GC content among the valid guide RNAs.\n",
    "   - The x-axis represents GC content percentages, and the y-axis represents the number of guides in each range.\n",
    "\n",
    "2. **Interpretation**:\n",
    "   - Guides with GC content in the acceptable range (e.g., 30–70%) are likely to bind effectively to the target RNA.\n",
    "   - The plot highlights whether the designed guides are evenly distributed across the acceptable range or concentrated in specific regions.\n",
    "\n",
    "__Importance:__\n",
    "- **Guide RNA Design**:\n",
    "   - Analysing GC content helps ensure the guides are suitable for robust hybridisation.\n",
    "- **Data Quality**:\n",
    "   - Visualising guide characteristics provides insights into the diversity and quality of the designed guides.\n",
    "\n",
    "__Output:__\n",
    "- A histogram showing the GC content distribution of valid guide RNAs.\n"
   ]
  },
  {
   "cell_type": "code",
   "execution_count": 14,
   "id": "14caffd8-298c-41da-a8e6-87add076ef6a",
   "metadata": {},
   "outputs": [
    {
     "data": {
      "image/png": "[encoded data removed]",
      "text/plain": [
       "<Figure size 640x480 with 1 Axes>"
      ]
     },
     "metadata": {},
     "output_type": "display_data"
    }
   ],
   "source": [
    "# Plot GC content distribution\n",
    "plt.hist(valid_guides_df[\"gc_content\"], bins=20, edgecolor=\"black\")\n",
    "plt.title(\"GC Content Distribution of Guide RNAs\")\n",
    "plt.xlabel(\"GC Content (%)\")\n",
    "plt.ylabel(\"Frequency\")\n",
    "plt.show()"
   ]
  },
  {
   "cell_type": "markdown",
   "id": "64e1d51c-5454-4c8d-8e38-eb6d64307574",
   "metadata": {},
   "source": [
    "## 6. Save Designed Guides"
   ]
  },
  {
   "cell_type": "markdown",
   "id": "a72ee0f8-9d52-4f32-83f2-5beb88b363a0",
   "metadata": {},
   "source": [
    "In this step, we save the valid guide RNAs and their associated metadata to a file for future use and downstream analyses.\n",
    "\n",
    "__Steps:__\n",
    "1. **Organise Data**:\n",
    "   - The valid guide RNAs, along with their metadata (e.g., conserved position, sequence ID, GC content), are stored in a structured format (e.g., a Pandas `DataFrame`).\n",
    "\n",
    "2. **Save to CSV**:\n",
    "   - The DataFrame is saved as a `.csv` file, a widely used format that can be easily imported into other tools or scripts for further analysis.\n",
    "\n",
    "__Importance:__\n",
    "- **Reproducibility**:\n",
    "   - Storing the designed guides ensures results can be reproduced and shared without rerunning the entire pipeline.\n",
    "- **Integration**:\n",
    "   - The saved file can be directly used in downstream tasks, such as off-target analysis or experimental validation.\n",
    "\n",
    "__Output:__\n",
    "- A CSV file (`designed_guides.csv`) containing:\n",
    "  - Conserved positions targeted by the guide RNAs.\n",
    "  - Sequence IDs for traceability.\n",
    "  - Guide RNA sequences and their GC content.\n"
   ]
  },
  {
   "cell_type": "code",
   "execution_count": 16,
   "id": "ee14501f-809e-437d-a697-cb0dd911e7b2",
   "metadata": {},
   "outputs": [
    {
     "name": "stdout",
     "output_type": "stream",
     "text": [
      "Designed guides saved to: ../data/processed/designed_guides.csv\n"
     ]
    }
   ],
   "source": [
    "# Save guides to a CSV file\n",
    "guides_file = os.path.join(PROCESSED_DATA_DIR, \"designed_guides.csv\")\n",
    "valid_guides_df.to_csv(guides_file, index=False)\n",
    "print(f\"Designed guides saved to: {guides_file}\")\n"
   ]
  }
 ],
 "metadata": {
  "kernelspec": {
   "display_name": "Python 3 (ipykernel)",
   "language": "python",
   "name": "python3"
  },
  "language_info": {
   "codemirror_mode": {
    "name": "ipython",
    "version": 3
   },
   "file_extension": ".py",
   "mimetype": "text/x-python",
   "name": "python",
   "nbconvert_exporter": "python",
   "pygments_lexer": "ipython3",
   "version": "3.11.0"
  }
 },
 "nbformat": 4,
 "nbformat_minor": 5
}
