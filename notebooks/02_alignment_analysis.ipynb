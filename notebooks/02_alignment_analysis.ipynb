{
 "cells": [
  {
   "cell_type": "markdown",
   "id": "e89c926c-54bd-4d3b-af85-fc6e1d5b47e1",
   "metadata": {},
   "source": [
    "# Cas13Hunter: Alignment and Conserved Region Analysis"
   ]
  },
  {
   "cell_type": "markdown",
   "id": "80126762-72b2-4670-a9a3-592dc379c0f5",
   "metadata": {},
   "source": [
    "## 0. Overview"
   ]
  },
  {
   "cell_type": "markdown",
   "id": "95d223f0-dbfb-4548-9252-f27bad4daefa",
   "metadata": {},
   "source": [
    "This notebook performs multiple sequence alignment (MSA) on the cleaned viral genome sequences to analyse conserved regions. Conserved regions are critical for designing CRISPR-Cas13 guide RNAs. The MSA steps include:\n",
    "\n",
    "1. __Load processed sequences from the `01_data_preprocessing.ipynb` output.__\n",
    "2. __Perform MSA using the `MAFFT` tool.__\n",
    "3. __Analyse conservation scores for each genome position.__\n",
    "4. __Identify and highlight conserved regions.__\n",
    "5. __Save the alignment and conservation data for downstream tasks.__\n"
   ]
  },
  {
   "cell_type": "markdown",
   "id": "a44c78f5-0d85-4d26-8267-d283ef19bc0b",
   "metadata": {},
   "source": [
    "## 1. Setup"
   ]
  },
  {
   "cell_type": "markdown",
   "id": "88709a3c-c3be-4747-bb77-f8c1c1fa57b2",
   "metadata": {},
   "source": [
    "### Installing MAFFT"
   ]
  },
  {
   "cell_type": "markdown",
   "id": "dc84fa97-7da0-4ca9-92a9-c20ce26fa089",
   "metadata": {
    "jp-MarkdownHeadingCollapsed": true,
    "tags": []
   },
   "source": [
    "**MAFFT** (Multiple Alignment using Fast Fourier Transform) is an external tool used for multiple sequence alignment. While Biopython provides an interface (`MafftCommandline`) to run MAFFT from Python, the tool itself must be installed separately on your system.\n",
    "\n",
    "__How to Install MAFFT:__\n",
    "\n",
    "__1. **Linux**:__\n",
    "\n",
    "Run the following command in your terminal:\n",
    "\n",
    "```bash\n",
    "sudo apt-get install mafft\n",
    "```\n",
    "\n",
    "__2. **macOS**:__\n",
    "\n",
    "Use Homebrew to install MAFFT:\n",
    "\n",
    "```bash\n",
    "brew install mafft\n",
    "```\n",
    "\n",
    "__3. **Windows**:__\n",
    "\n",
    "- Download the precompiled binaries from the [MAFFT official website](https://mafft.cbrc.jp/alignment/software/).\n",
    "- Extract the binaries and add the MAFFT directory to your system's PATH variable.\n",
    "\n",
    "__Verify Installation:__\n",
    "\n",
    "- After installation, check that MAFFT is installed and accessible by running:\n",
    "\n",
    "```bash\n",
    "mafft --version\n",
    "```\n",
    "\n",
    "This should display the version number of MAFFT, confirming a successful installation. Once installed, MAFFT can be seamlessly used with Biopython’s `MafftCommandline` for sequence alignment in this notebook."
   ]
  },
  {
   "cell_type": "markdown",
   "id": "01ad34cf-3327-40eb-a18a-5bde573ee7fa",
   "metadata": {},
   "source": [
    "### Import Libraries"
   ]
  },
  {
   "cell_type": "code",
   "execution_count": 1,
   "id": "2ad52ef3-9b61-4edc-9890-272d4fe614c3",
   "metadata": {},
   "outputs": [],
   "source": [
    "import os\n",
    "from Bio import AlignIO\n",
    "from Bio.Align.Applications import MafftCommandline\n",
    "from Bio.Align import AlignInfo\n",
    "import matplotlib.pyplot as plt\n",
    "import numpy as np"
   ]
  },
  {
   "cell_type": "markdown",
   "id": "e25a2da3-6bd1-42e5-a85c-26b8a029fc14",
   "metadata": {},
   "source": [
    "## 2. Load Processed Sequences"
   ]
  },
  {
   "cell_type": "code",
   "execution_count": 2,
   "id": "5436e19e-6e31-44a1-9077-c7baf77226a0",
   "metadata": {},
   "outputs": [
    {
     "name": "stdout",
     "output_type": "stream",
     "text": [
      "Loading processed sequences from: ../data/processed/cleaned_sequences.fasta\n"
     ]
    }
   ],
   "source": [
    "# Define file paths\n",
    "PROCESSED_DATA_DIR = \"../data/processed/\"\n",
    "processed_file = os.path.join(PROCESSED_DATA_DIR, \"cleaned_sequences.fasta\")\n",
    "aligned_file = os.path.join(PROCESSED_DATA_DIR, \"aligned_sequences.fasta\")\n",
    "\n",
    "# Check if the processed file exists\n",
    "if not os.path.exists(processed_file):\n",
    "    raise FileNotFoundError(f\"Processed file not found: {processed_file}\")\n",
    "\n",
    "# Load the processed sequences\n",
    "print(f\"Loading processed sequences from: {processed_file}\")"
   ]
  },
  {
   "cell_type": "markdown",
   "id": "24362ed0-1d5c-4697-8ae0-c1ad85d297b3",
   "metadata": {},
   "source": [
    "## 3. Perform Multiple Sequence Alignment (MSA)"
   ]
  },
  {
   "cell_type": "markdown",
   "id": "da4f3e20-b62d-4fa7-8e70-65faec210cb9",
   "metadata": {},
   "source": [
    "__What is Multiple Sequence Alignment (MSA)?__\n",
    "\n",
    "- **Definition**: Multiple Sequence Alignment (MSA) is a method used to align three or more biological sequences (DNA, RNA, or protein) to identify regions of similarity. These similarities may be due to structural, functional, or evolutionary relationships.\n",
    "- **Purpose in Viral Genomes**:\n",
    "  - Align sequences to detect conserved regions that are critical for viral survival.\n",
    "  - Identify variable regions, such as mutations, that may influence viral function or evolution.\n",
    "- **How It Works**:\n",
    "  - The sequences are arranged such that similar or identical bases are aligned in columns.\n",
    "  - Gaps (`-`) may be introduced to account for insertions or deletions in some sequences.\n",
    "\n",
    "__Why Use MSA in This Project?__\n",
    "\n",
    "In this project, MSA helps:\n",
    "1. Identify conserved RNA regions across the SARS-CoV-2 genome sequences.\n",
    "2. Highlight regions suitable for CRISPR-Cas13 guide RNA design.\n",
    "3. Provide insights into genome variability and evolution.\n",
    "\n",
    "__Tool: `MAFFT`__\n",
    "- `MAFFT` (Multiple Alignment using Fast Fourier Transform) is used for MSA.\n",
    "- It is a widely used, efficient tool for aligning nucleotide or protein sequences.\n",
    "- MAFFT handles large datasets effectively, making it suitable for our SARS-CoV-2 sequences.\n",
    "\n",
    "__Process:__\n",
    "1. MAFFT aligns the cleaned sequences from the `cleaned_sequences.fasta` file.\n",
    "2. The alignment output is saved to `aligned_sequences.fasta`.\n",
    "3. This alignment serves as the foundation for analyzing conservation across genome positions.\n",
    "\n",
    "__How Long Will MAFFT Take for 500 Sequences?__\n",
    "\n",
    "The runtime of `MAFFT` for aligning 500 sequences depends on several factors, including sequence length, the alignment mode, and the computational resources available.\n",
    "\n",
    "__Factors Affecting Runtime:__\n",
    "\n",
    "1. **Number of Sequences**:\n",
    "   - The more sequences, the longer the runtime. For 500 sequences, MAFFT is manageable but may take noticeable time.\n",
    "   \n",
    "2. **Sequence Length**:\n",
    "   - With sequences ~29,000 bases long (as in SARS-CoV-2), alignment takes longer due to increased complexity.\n",
    "\n",
    "3. **MAFFT Algorithm**:\n",
    "   - Default mode: Suitable for most cases but slower.\n",
    "   - `FFT-NS-2`: Faster but less accurate.\n",
    "   - `FFT-NS-i`: Balances speed and accuracy.\n",
    "   - `PartTree`: Optimised for very large datasets.\n",
    "\n",
    "4. **Computational Resources**:\n",
    "   - Multi-threading: MAFFT can utilise multiple CPU cores to speed up alignment.\n",
    "   - Available memory: Larger memory improves efficiency for longer sequences.\n",
    "\n",
    "5. **Quality vs. Speed Trade-Off**:\n",
    "   - Highly accurate alignment (e.g., iterative refinement) takes longer.\n",
    "\n",
    "__Estimated Runtime:__\n",
    "\n",
    "For **500 sequences** of ~29,000 bases:\n",
    "- On a standard machine with 4 CPU cores and 8 GB of RAM:\n",
    "  - **Default mode**: ~10–20 minutes.\n",
    "  - **Faster modes (e.g., FFT-NS-2)**: ~2–5 minutes.\n",
    "- Using an HPC or a machine with 16+ cores:\n",
    "  - Runtime can drop to <1 minute in fast modes.\n",
    "\n",
    "__Optimization Tips:__\n",
    "\n",
    "1. **Choose an Appropriate Mode**:\n",
    "   - For speed: Use `FFT-NS-2` or `PartTree`.\n",
    "   - For balance: Use `FFT-NS-i`.\n",
    "   Example Command:\n",
    "   ```bash\n",
    "   mafft --auto --thread 4 input.fasta > output.fasta\n",
    "   ```\n",
    "   \n",
    "2. **Enable Multi-Threading:**\n",
    "    - Use the --thread option to utilize all available CPU cores:\n",
    "    Example Command:\n",
    "    ```bash\n",
    "    mafft --thread 8 input.fasta > output.fasta\n",
    "    ```\n",
    "3. **Pre-Clustering:**\n",
    "    - Use tools like CD-HIT to cluster similar sequences and reduce redundancy before alignment.\n",
    "\n",
    "4. **HPC or Cloud Resources:**\n",
    "    - Using high-performance computing resources can significantly reduce runtime."
   ]
  },
  {
   "cell_type": "code",
   "execution_count": null,
   "id": "ba3a42ae-a883-4a9d-8365-2784ff7ba0d5",
   "metadata": {},
   "outputs": [],
   "source": [
    "# Perform multiple sequence alignment using MAFFT\n",
    "mafft_cline = MafftCommandline(input=processed_file)\n",
    "stdout, stderr = mafft_cline()\n",
    "\n",
    "# Save the aligned sequences to a file\n",
    "with open(aligned_file, \"w\") as f:\n",
    "    f.write(stdout)\n",
    "\n",
    "print(f\"Aligned sequences saved to: {aligned_file}\")\n"
   ]
  },
  {
   "cell_type": "markdown",
   "id": "a95264ad-32ee-47e5-8023-48e111601854",
   "metadata": {},
   "source": [
    "Find below the updated Python code to use `FFT-NS-2` mode with multi-threading for `MAFFT`:\n",
    "\n",
    "1. **`auto=True:`**\n",
    "\n",
    "    - Automatically determines the best alignment strategy based on dataset size, defaulting to FFT-NS-2 for speed with large sequences.\n",
    "\n",
    "2. **Multi-threading:**\n",
    "\n",
    "    - The thread argument specifies the number of CPU threads to use (e.g., thread=4 for 4 cores). Adjust based on your system.\n",
    "\n",
    "3. **Error Handling:**\n",
    "\n",
    "    - A FileNotFoundError ensures the input file exists before proceeding.\n",
    "\n",
    "4. **Output:**\n",
    "\n",
    "    - Saves the aligned sequences in aligned_sequences.fasta for further analysis.\n",
    "\n",
    "Internally, this command runs a shell command like:\n",
    "```bash\n",
    "mafft --auto --thread 4 cleaned_sequences.fasta > aligned_sequences.fasta\n",
    "```"
   ]
  },
  {
   "cell_type": "code",
   "execution_count": 3,
   "id": "a4910491-f1f2-4291-bcf6-c60903c025ad",
   "metadata": {},
   "outputs": [
    {
     "name": "stdout",
     "output_type": "stream",
     "text": [
      "Running MAFFT alignment using FFT-NS-2 mode...\n",
      "Aligned sequences saved to: ../data/processed/aligned_sequences.fasta\n"
     ]
    }
   ],
   "source": [
    "from Bio.Align.Applications import MafftCommandline\n",
    "import os\n",
    "\n",
    "# Define file paths\n",
    "PROCESSED_DATA_DIR = \"../data/processed/\"\n",
    "processed_file = os.path.join(PROCESSED_DATA_DIR, \"cleaned_sequences.fasta\")\n",
    "aligned_file = os.path.join(PROCESSED_DATA_DIR, \"aligned_sequences.fasta\")\n",
    "\n",
    "# Check if the processed file exists\n",
    "if not os.path.exists(processed_file):\n",
    "    raise FileNotFoundError(f\"Processed file not found: {processed_file}\")\n",
    "\n",
    "# Run MAFFT using FFT-NS-2 mode with multi-threading\n",
    "print(\"Running MAFFT alignment using FFT-NS-2 mode...\")\n",
    "mafft_cline = MafftCommandline(\n",
    "    input=processed_file,  # Input FASTA file\n",
    "    thread=4,             # Number of CPU threads to use\n",
    "    auto=True             # Automatically chooses FFT-NS-2 for speed\n",
    ")\n",
    "stdout, stderr = mafft_cline()\n",
    "\n",
    "# Save the aligned sequences to a file\n",
    "with open(aligned_file, \"w\") as f:\n",
    "    f.write(stdout)\n",
    "\n",
    "print(f\"Aligned sequences saved to: {aligned_file}\")"
   ]
  },
  {
   "cell_type": "markdown",
   "id": "86aa0220-d528-48ab-9360-e77994b0b007",
   "metadata": {},
   "source": [
    "## 4. Analyse Conserved Regions"
   ]
  },
  {
   "cell_type": "markdown",
   "id": "4f2a2edf-79b6-45b3-9612-c5166e733da8",
   "metadata": {},
   "source": [
    "In this step, we calculate conservation scores across all aligned sequences to identify conserved regions. Conserved regions are critical for understanding viral evolution and for designing CRISPR-Cas13 guide RNAs.\n",
    "\n",
    "__Steps:__\n",
    "\n",
    "1. **Alignment Column Analysis**:\n",
    "   - Each column in the multiple sequence alignment (MSA) corresponds to a specific position in the genome.\n",
    "   - For each column, we calculate how many sequences share the most common nucleotide.\n",
    "\n",
    "2. **Conservation Score**:\n",
    "   - A conservation score is calculated as:\n",
    "     $\\text{Conservation Score} = \\frac{\\text{Count of Most Common Nucleotide}}{\\text{Total Number of Sequences}}$\n",
    "   - This score ranges from `0` (completely variable) to `1` (completely conserved).\n",
    "\n",
    "3. **Threshold for Conservation**:\n",
    "   - Positions with a conservation score above a certain threshold (e.g., 90%) are considered conserved.\n",
    "\n",
    "__Importance:__\n",
    "\n",
    "- **Identify Critical Regions**: Conserved regions are likely to be functionally important for the virus, such as binding sites or replication machinery.\n",
    "- **CRISPR-Cas13 Design**: These regions are ideal targets for guide RNA design, as they are consistent across viral variants.\n",
    "\n",
    "__Output:__\n",
    "\n",
    "- Conservation scores for each genome position.\n",
    "- A list of conserved positions that meet the defined threshold (e.g., >90% conserved)."
   ]
  },
  {
   "cell_type": "code",
   "execution_count": 4,
   "id": "c215af86-0d34-4451-bcd1-77e0e2ca5adc",
   "metadata": {},
   "outputs": [
    {
     "name": "stdout",
     "output_type": "stream",
     "text": [
      "Alignment loaded with 453 sequences.\n",
      "Number of conserved positions: 35119\n"
     ]
    }
   ],
   "source": [
    "# Load the aligned sequences\n",
    "alignment = AlignIO.read(aligned_file, \"fasta\")\n",
    "print(f\"Alignment loaded with {len(alignment)} sequences.\")\n",
    "\n",
    "# Calculate conservation scores\n",
    "alignment_length = alignment.get_alignment_length()\n",
    "conservation_scores = []\n",
    "\n",
    "for i in range(alignment_length):\n",
    "    column = alignment[:, i]\n",
    "    most_common = max(set(column), key=column.count)\n",
    "    conservation_score = column.count(most_common) / len(column)\n",
    "    conservation_scores.append(conservation_score)\n",
    "\n",
    "# Identify conserved regions (threshold: 90% conserved)\n",
    "threshold = 0.9\n",
    "conserved_positions = [\n",
    "    i for i, score in enumerate(conservation_scores) if score >= threshold\n",
    "]\n",
    "print(f\"Number of conserved positions: {len(conserved_positions)}\")\n"
   ]
  },
  {
   "cell_type": "markdown",
   "id": "a221537c-7e11-49cd-b70a-bca5fae3e919",
   "metadata": {},
   "source": [
    "## 5. Visualise Conservation"
   ]
  },
  {
   "cell_type": "markdown",
   "id": "8e42a312-b555-4b07-90f7-a7bf807b06d9",
   "metadata": {},
   "source": [
    "This step generates a plot to visualise conservation scores across all positions in the aligned sequences. The visualisation helps to identify conserved and variable regions in the viral genome.\n",
    "\n",
    "__Steps:__\n",
    "1. **Conservation Score Plot**:\n",
    "   - Each genome position is represented on the x-axis.\n",
    "   - The conservation score for each position is plotted on the y-axis, ranging from `0` (completely variable) to `1` (completely conserved).\n",
    "\n",
    "2. **Threshold Line**:\n",
    "   - A horizontal line is added to indicate the conservation threshold (e.g., 90%).\n",
    "   - Positions above this threshold are considered conserved.\n",
    "\n",
    "__Importance:__\n",
    "- **Identify Conserved Regions**: Peaks above the threshold highlight regions with high conservation, which are likely functionally important.\n",
    "- **Spot Variable Regions**: Valleys in the plot represent positions with high variability, often due to mutations or evolutionary adaptations.\n",
    "- **Guide RNA Design**: Helps to visually identify regions suitable for targeting with CRISPR-Cas13 guide RNAs.\n",
    "\n",
    "__Output:__\n",
    "- A clear, informative plot showing conservation scores across the genome, with conserved regions highlighted by their high scores.\n"
   ]
  },
  {
   "cell_type": "code",
   "execution_count": 5,
   "id": "e07675ed-a3ae-4784-af6c-786183d87267",
   "metadata": {},
   "outputs": [
    {
     "data": {
      "image/png": "[encoded data removed]",
      "text/plain": [
       "<Figure size 1500x500 with 1 Axes>"
      ]
     },
     "metadata": {},
     "output_type": "display_data"
    }
   ],
   "source": [
    "# Plot conservation scores\n",
    "plt.figure(figsize=(15, 5))\n",
    "plt.plot(range(alignment_length), conservation_scores, label=\"Conservation Score\")\n",
    "plt.axhline(y=threshold, color=\"r\", linestyle=\"--\", label=f\"Threshold ({threshold*100:.0f}%)\")\n",
    "plt.title(\"Conservation Scores Across Genome\")\n",
    "plt.xlabel(\"Position\")\n",
    "plt.ylabel(\"Conservation Score\")\n",
    "plt.legend()\n",
    "plt.show()\n"
   ]
  },
  {
   "cell_type": "markdown",
   "id": "42875647-37c6-4c11-a2af-8183fbf29cd3",
   "metadata": {},
   "source": [
    "## 6. Save Results"
   ]
  },
  {
   "cell_type": "markdown",
   "id": "b3d05763-0b34-48c1-b29c-f7e8d4f043de",
   "metadata": {},
   "source": [
    "This step saves the identified conserved positions and their data to a file for future use in downstream analyses.\n",
    "\n",
    "__Steps__\n",
    "1. **Save Conserved Positions**:\n",
    "   - The positions in the alignment that meet the conservation threshold (e.g., >90% conserved) are stored in a file.\n",
    "   - The data is saved in a NumPy array format (`.npy`), which is efficient for storage and quick to load in future scripts or notebooks.\n",
    "\n",
    "2. **File Location**:\n",
    "   - The conserved positions are saved to the `conserved_regions.npy` file in the `processed` data directory.\n",
    "\n",
    "__Importance:__\n",
    "- **Reproducibility**: Storing conserved positions ensures the results can be reused without rerunning the entire alignment and analysis pipeline.\n",
    "- **Integration with Other Steps**: The conserved regions can be directly used in downstream processes like CRISPR-Cas13 guide RNA design.\n",
    "\n",
    "__Output:__\n",
    "- A file containing the indices of conserved positions, ready for use in the next stages of the workflow.\n"
   ]
  },
  {
   "cell_type": "code",
   "execution_count": null,
   "id": "ef321df3-90e2-48ac-ae5a-eded6db71ea8",
   "metadata": {},
   "outputs": [],
   "source": [
    "# Save conserved region data\n",
    "conserved_file = os.path.join(PROCESSED_DATA_DIR, \"conserved_regions.npy\")\n",
    "np.save(conserved_file, conserved_positions)\n",
    "print(f\"Conserved positions saved to: {conserved_file}\")\n"
   ]
  }
 ],
 "metadata": {
  "kernelspec": {
   "display_name": "Python 3 (ipykernel)",
   "language": "python",
   "name": "python3"
  },
  "language_info": {
   "codemirror_mode": {
    "name": "ipython",
    "version": 3
   },
   "file_extension": ".py",
   "mimetype": "text/x-python",
   "name": "python",
   "nbconvert_exporter": "python",
   "pygments_lexer": "ipython3",
   "version": "3.11.0"
  }
 },
 "nbformat": 4,
 "nbformat_minor": 5
}
